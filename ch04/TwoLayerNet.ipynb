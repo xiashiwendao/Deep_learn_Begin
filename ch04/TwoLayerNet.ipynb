{
 "cells": [
  {
   "cell_type": "code",
   "execution_count": null,
   "metadata": {},
   "outputs": [],
   "source": [
    "import numpy as np\n"
   ]
  },
  {
   "cell_type": "code",
   "execution_count": null,
   "metadata": {},
   "outputs": [],
   "source": [
    "class TwoLayerNetwork:\n",
    "    def __init__(self, init_std, input_size, hidden_size, output_size):\n",
    "        param={}\n",
    "        param[\"w1\"] = init_std * np.random.randn(input_size, hidden_size)\n",
    "        param[\"b1\"] = np.zeros(hidden_size)\n",
    "        param[\"w2\"] = init_std * np.random.randn(hidden_size, output_size)\n",
    "        param[\"b2\"] = np.zeros(output_size)\n",
    "        \n",
    "        self.param = param\n",
    "    \n",
    "    def predict(self, x):\n",
    "        w1, w2 = self.param[\"w1\"], self.param[\"w2\"]\n",
    "        b1, b2 = self.param[\"b1\"], self.param[\"b2\"]\n",
    "        \n",
    "        a1 = np.dot(x, w1) + b1\n",
    "        z = sigmod(a)\n",
    "        a2 = np.dot(z, w2) + b2\n",
    "        y = softmax(a2)\n",
    "        \n",
    "        return y\n",
    "    \n",
    "    def accuracy(x, t):\n",
    "        y = self.predict(x)\n",
    "        y = np.argmax(x, axis=1)\n",
    "        t = np.argmax(t, axis=1)\n",
    "        r = np.sum(y == t) / len(y)\n",
    "        \n",
    "        return r\n",
    "    \n",
    "    def loss(x, t):\n",
    "        y = self.predict(x)\n",
    "        y = softmax(y)\n",
    "        \n",
    "        return cross_entropy_error(x, t)\n",
    "    \n",
    "    def num_gradient(x, t):\n",
    "        f = lambda w: loss(x, t)\n",
    "        grads = {}\n",
    "        grads[\"w1\"] = num_gradient(f, x, t)\n",
    "        grads[\"b1\"] = num_gradient(f, x, t)\n",
    "        grads[\"w2\"] = num_gradient(f, x, t)\n",
    "        grads[\"b2\"] = num_gradient(f, x, t)"
   ]
  }
 ],
 "metadata": {
  "kernelspec": {
   "display_name": "Python 3",
   "language": "python",
   "name": "python3"
  },
  "language_info": {
   "codemirror_mode": {
    "name": "ipython",
    "version": 3
   },
   "file_extension": ".py",
   "mimetype": "text/x-python",
   "name": "python",
   "nbconvert_exporter": "python",
   "pygments_lexer": "ipython3",
   "version": "3.5.2"
  }
 },
 "nbformat": 4,
 "nbformat_minor": 2
}
